{
 "cells": [
  {
   "cell_type": "markdown",
   "metadata": {},
   "source": [
    "# FALL 2020 -> CSE 6363 -> Machine Learning\n",
    "## Assignment 2\n",
    "### Problem 3\n",
    "### Name:  Tirumala Manukonda (UTA ID# 1001662386)"
   ]
  },
  {
   "cell_type": "markdown",
   "metadata": {},
   "source": [
    "#### Implement Artifical Neural Network Classifier using existing libraries to classify the MNIST dataset \n",
    "\n",
    "__Summary__:\n",
    "\n",
    "- Read in Train and Test data set\n",
    "- Using only images within class 0 to 5(for Train and Test Data)\n",
    "- Using the existing MLP (Multi layer Perceptron Classifier) classifier, and with 3 hidden layers each with 150 , 100 and 50 \n",
    "  hidden units \n",
    "  - ReLU (Rectified Linear Unit)Activation Function is used for the first classification report\n",
    "     -  The formula is deceptively simple: max(0,z). Despite its name and appearance, it’s not linear and provides the same             benefits as Sigmoid but with better performance.\n",
    "  - Sigmoid Activation Function is used for the second classification report\n",
    "     -  Sigmoid transforms the values between the range 0 and 1.\n",
    "        Here is the mathematical expression for sigmoid\n",
    "           - f(x) = 1/(1+e^-x)\n",
    "- Accuracy,Precision and Recall score are used for analysing the performance of our model\n"
   ]
  },
  {
   "cell_type": "code",
   "execution_count": 45,
   "metadata": {},
   "outputs": [],
   "source": [
    "#importing the necessary libraries \n",
    "\n",
    "import numpy as np\n",
    "import matplotlib.pyplot as plt\n",
    "import pandas as pd\n",
    "import math\n",
    "from collections import Counter\n",
    "from sklearn.model_selection import train_test_split\n",
    "from sklearn.neural_network import MLPClassifier\n",
    "from sklearn.datasets import make_classification\n",
    "from sklearn.metrics import classification_report\n",
    "from sklearn.metrics import accuracy_score, confusion_matrix, recall_score"
   ]
  },
  {
   "cell_type": "code",
   "execution_count": 46,
   "metadata": {},
   "outputs": [
    {
     "name": "stdout",
     "output_type": "stream",
     "text": [
      "       0    1    2    3    4    5    6    7    8    9    ...  775  776  777  \\\n",
      "1        0    0    0    0    0    0    0    0    0    0  ...    0    0    0   \n",
      "2        4    0    0    0    0    0    0    0    0    0  ...    0    0    0   \n",
      "3        1    0    0    0    0    0    0    0    0    0  ...    0    0    0   \n",
      "5        2    0    0    0    0    0    0    0    0    0  ...    0    0    0   \n",
      "6        1    0    0    0    0    0    0    0    0    0  ...    0    0    0   \n",
      "...    ...  ...  ...  ...  ...  ...  ...  ...  ...  ...  ...  ...  ...  ...   \n",
      "59985    2    0    0    0    0    0    0    0    0    0  ...    0    0    0   \n",
      "59987    0    0    0    0    0    0    0    0    0    0  ...    0    0    0   \n",
      "59991    2    0    0    0    0    0    0    0    0    0  ...    0    0    0   \n",
      "59994    1    0    0    0    0    0    0    0    0    0  ...    0    0    0   \n",
      "59996    3    0    0    0    0    0    0    0    0    0  ...    0    0    0   \n",
      "\n",
      "       778  779  780  781  782  783  784  \n",
      "1        0    0    0    0    0    0    0  \n",
      "2        0    0    0    0    0    0    0  \n",
      "3        0    0    0    0    0    0    0  \n",
      "5        0    0    0    0    0    0    0  \n",
      "6        0    0    0    0    0    0    0  \n",
      "...    ...  ...  ...  ...  ...  ...  ...  \n",
      "59985    0    0    0    0    0    0    0  \n",
      "59987    0    0    0    0    0    0    0  \n",
      "59991    0    0    0    0    0    0    0  \n",
      "59994    0    0    0    0    0    0    0  \n",
      "59996    0    0    0    0    0    0    0  \n",
      "\n",
      "[30596 rows x 785 columns]\n",
      "      0    1    2    3    4    5    6    7    8    9    ...  775  776  777  \\\n",
      "1       2    0    0    0    0    0    0    0    0    0  ...    0    0    0   \n",
      "2       1    0    0    0    0    0    0    0    0    0  ...    0    0    0   \n",
      "3       0    0    0    0    0    0    0    0    0    0  ...    0    0    0   \n",
      "4       4    0    0    0    0    0    0    0    0    0  ...    0    0    0   \n",
      "5       1    0    0    0    0    0    0    0    0    0  ...    0    0    0   \n",
      "...   ...  ...  ...  ...  ...  ...  ...  ...  ...  ...  ...  ...  ...  ...   \n",
      "9993    0    0    0    0    0    0    0    0    0    0  ...    0    0    0   \n",
      "9994    1    0    0    0    0    0    0    0    0    0  ...    0    0    0   \n",
      "9995    2    0    0    0    0    0    0    0    0    0  ...    0    0    0   \n",
      "9996    3    0    0    0    0    0    0    0    0    0  ...    0    0    0   \n",
      "9997    4    0    0    0    0    0    0    0    0    0  ...    0    0    0   \n",
      "\n",
      "      778  779  780  781  782  783  784  \n",
      "1       0    0    0    0    0    0    0  \n",
      "2       0    0    0    0    0    0    0  \n",
      "3       0    0    0    0    0    0    0  \n",
      "4       0    0    0    0    0    0    0  \n",
      "5       0    0    0    0    0    0    0  \n",
      "...   ...  ...  ...  ...  ...  ...  ...  \n",
      "9993    0    0    0    0    0    0    0  \n",
      "9994    0    0    0    0    0    0    0  \n",
      "9995    0    0    0    0    0    0    0  \n",
      "9996    0    0    0    0    0    0    0  \n",
      "9997    0    0    0    0    0    0    0  \n",
      "\n",
      "[5139 rows x 785 columns]\n"
     ]
    }
   ],
   "source": [
    "#reading the csv file from the local folder \n",
    "\n",
    "Train_df = pd.read_csv(\"C:/Users/Dell/OneDrive/Documents/mnist_train.csv\",sep=',',header=None) \n",
    "indexNames = Train_df[ Train_df[0] > 4].index\n",
    "Train_df.drop(indexNames , inplace=True)\n",
    "print(Train_df)\n",
    "\n",
    "\n",
    "Test_df = pd.read_csv(\"C:/Users/Dell/OneDrive/Documents/mnist_test.csv\",sep=',',header=None) \n",
    "indexNames = Test_df[ Test_df[0] > 4].index\n",
    "Test_df.drop(indexNames , inplace=True)\n",
    "print(Test_df)"
   ]
  },
  {
   "cell_type": "markdown",
   "metadata": {},
   "source": [
    "- Reading the train and test datasets and then removed the rows that has class labels more than 4 i.e selected between 0 to 4\n",
    "  and then displayed the remaining after deleting"
   ]
  },
  {
   "cell_type": "code",
   "execution_count": 47,
   "metadata": {},
   "outputs": [],
   "source": [
    "#assiging the class labels to y train and test data\n",
    "\n",
    "X_train = Train_df.iloc[:,1:]\n",
    "y_train =  Train_df[0]\n",
    "\n",
    "X_test = Test_df.iloc[:,1:]\n",
    "y_test =  Test_df[0]"
   ]
  },
  {
   "cell_type": "markdown",
   "metadata": {},
   "source": [
    "- Adding the labels of train and test dataset to y_train and y_test"
   ]
  },
  {
   "cell_type": "code",
   "execution_count": 52,
   "metadata": {},
   "outputs": [
    {
     "data": {
      "text/plain": [
       "MLPClassifier(hidden_layer_sizes=(150, 100, 50), learning_rate_init=0.0001,\n",
       "              max_iter=10000, random_state=0)"
      ]
     },
     "execution_count": 52,
     "metadata": {},
     "output_type": "execute_result"
    }
   ],
   "source": [
    "#using existing the ANN classifier  with 3 hidden layers and 150,100 and 50 hidden units of those\n",
    "#RELU activation function is used in this classification\n",
    "#fit the training data to the classifier\n",
    "\n",
    "classifier = MLPClassifier(max_iter=10000, hidden_layer_sizes=(150,100,50), activation = 'relu', learning_rate_init=0.0001, random_state=0)\n",
    "classifier.fit(X_train, y_train)"
   ]
  },
  {
   "cell_type": "markdown",
   "metadata": {},
   "source": [
    "- used the existing MLP classifier, with the three hidden layers and with 150,100,50 hidden units and with the activation funtion as Rectified Linear Unit"
   ]
  },
  {
   "cell_type": "code",
   "execution_count": 53,
   "metadata": {},
   "outputs": [
    {
     "name": "stdout",
     "output_type": "stream",
     "text": [
      "              precision    recall  f1-score   support\n",
      "\n",
      "           0       0.98      0.98      0.98       980\n",
      "           1       0.98      0.98      0.98      1135\n",
      "           2       0.96      0.94      0.95      1032\n",
      "           3       0.97      0.97      0.97      1010\n",
      "           4       0.97      0.98      0.97       982\n",
      "\n",
      "    accuracy                           0.97      5139\n",
      "   macro avg       0.97      0.97      0.97      5139\n",
      "weighted avg       0.97      0.97      0.97      5139\n",
      "\n"
     ]
    }
   ],
   "source": [
    "#Predicting y labels using Test data and printing the classification report with the scores of precision recall and accuracies \n",
    "y_pred = classifier.predict(X_test)\n",
    "print(classification_report(y_test, y_pred))"
   ]
  },
  {
   "cell_type": "markdown",
   "metadata": {},
   "source": [
    "#### _Analysis_: \n",
    "- this is analysis of classifier when the activation function is RELU\n",
    "- from the above classification report, it gives Accuracy of 97% and precision and recall as 97%, which says that my model is doing good ."
   ]
  },
  {
   "cell_type": "code",
   "execution_count": 54,
   "metadata": {},
   "outputs": [
    {
     "name": "stdout",
     "output_type": "stream",
     "text": [
      "              precision    recall  f1-score   support\n",
      "\n",
      "           0       0.99      0.99      0.99       980\n",
      "           1       1.00      0.99      0.99      1135\n",
      "           2       0.98      0.98      0.98      1032\n",
      "           3       0.99      0.99      0.99      1010\n",
      "           4       0.99      0.99      0.99       982\n",
      "\n",
      "    accuracy                           0.99      5139\n",
      "   macro avg       0.99      0.99      0.99      5139\n",
      "weighted avg       0.99      0.99      0.99      5139\n",
      "\n"
     ]
    }
   ],
   "source": [
    "#Using existing the ANN classifier  with 3 hidden layers and 150,100 and 50 hidden units of those\n",
    "#Sigmoid activation function is used in this classification\n",
    "#fit the training data to the classifier\n",
    "\n",
    "classifier = MLPClassifier(max_iter=10000, hidden_layer_sizes=(150,100,50), activation = 'logistic',learning_rate_init=0.0001, random_state=0)\n",
    "classifier.fit(X_train, y_train)\n",
    "y_pred = classifier.predict(X_test)\n",
    "print(classification_report(y_test, y_pred))"
   ]
  },
  {
   "cell_type": "markdown",
   "metadata": {},
   "source": [
    "#### _Analysis_: \n",
    "- this is analysis of classifier when the activation function is sigmoid \n",
    "- from the above classification report, it gives Accuracy of 99% and precision and recall as 99%, which says that my model is doing good ."
   ]
  },
  {
   "cell_type": "markdown",
   "metadata": {},
   "source": [
    "#### _Overall Report_: \n",
    "- Understanding the performance of Classifier for RELU and Sigmoid, I would say that Sigmoid activation function gave me better       result than RELU activation function, and i could say that this model performence better with Sigmoid activation function"
   ]
  }
 ],
 "metadata": {
  "kernelspec": {
   "display_name": "Python 3",
   "language": "python",
   "name": "python3"
  },
  "language_info": {
   "codemirror_mode": {
    "name": "ipython",
    "version": 3
   },
   "file_extension": ".py",
   "mimetype": "text/x-python",
   "name": "python",
   "nbconvert_exporter": "python",
   "pygments_lexer": "ipython3",
   "version": "3.7.6"
  }
 },
 "nbformat": 4,
 "nbformat_minor": 4
}

{
 "cells": [
  {
   "cell_type": "markdown",
   "metadata": {},
   "source": [
    "# FALL 2020 -> CSE 6363 -> Machine Learning\n",
    "## Assignment 2\n",
    "### Problem 1\n",
    "### Name:  Tirumala Manukonda (UTA ID# 1001662386)"
   ]
  },
  {
   "cell_type": "markdown",
   "metadata": {},
   "source": [
    "#### Implementing logistic regression using sigmoid function and cross entropy\n",
    "\n",
    "__Summary__:\n",
    "\n",
    "- Generate Train and test data sets each of 1000 values using the mu and sigma values\n",
    "- Assign the labels 0 and 1 for 500 each of set 0 and set 1 of Train data and similarly for the test data\n",
    "- Implement the logistic regression using sigmoid function and logloss function\n",
    " -  Sigmoid transforms the values between the range 0 and 1.\n",
    "    -   Here is the mathematical expression for sigmoid\n",
    "           - f(x) = 1/(1+e^-x)\n",
    " -  LoglossFunction,measures the performance of a classification model whose output is a probability value\n",
    "    between 0 and 1. Cross-entropy loss increases as the predicted probability diverges from the actual label. \n",
    "- Calculate the accuracy of the model\n",
    "- Plot ROC Curve graph and define the AUC Area Under Curve for the model\n",
    "- Plot The graph between the no of iterations and the learning rate\n",
    " "
   ]
  },
  {
   "cell_type": "code",
   "execution_count": 1,
   "metadata": {},
   "outputs": [],
   "source": [
    "#importing all the necessary libraries\n",
    "\n",
    "import pandas as pd\n",
    "import numpy as np\n",
    "import matplotlib.pyplot as plt\n",
    "from numpy import random\n",
    "import math\n",
    "from math import sin, cos, pi\n",
    "from sklearn.model_selection import train_test_split\n",
    "from sklearn.metrics import accuracy_score\n",
    "from sklearn.metrics import roc_auc_score\n",
    "from sklearn.metrics import roc_curve"
   ]
  },
  {
   "cell_type": "code",
   "execution_count": 2,
   "metadata": {},
   "outputs": [
    {
     "name": "stderr",
     "output_type": "stream",
     "text": [
      "C:\\Users\\Dell\\anaconda3\\lib\\site-packages\\ipykernel_launcher.py:10: RuntimeWarning: covariance is not positive-semidefinite.\n",
      "  # Remove the CWD from sys.path while we load stuff.\n"
     ]
    },
    {
     "data": {
      "text/html": [
       "<div>\n",
       "<style scoped>\n",
       "    .dataframe tbody tr th:only-of-type {\n",
       "        vertical-align: middle;\n",
       "    }\n",
       "\n",
       "    .dataframe tbody tr th {\n",
       "        vertical-align: top;\n",
       "    }\n",
       "\n",
       "    .dataframe thead th {\n",
       "        text-align: right;\n",
       "    }\n",
       "</style>\n",
       "<table border=\"1\" class=\"dataframe\">\n",
       "  <thead>\n",
       "    <tr style=\"text-align: right;\">\n",
       "      <th></th>\n",
       "      <th>0</th>\n",
       "      <th>1</th>\n",
       "      <th>2</th>\n",
       "    </tr>\n",
       "  </thead>\n",
       "  <tbody>\n",
       "    <tr>\n",
       "      <th>0</th>\n",
       "      <td>0.212444</td>\n",
       "      <td>0.855727</td>\n",
       "      <td>0.0</td>\n",
       "    </tr>\n",
       "    <tr>\n",
       "      <th>1</th>\n",
       "      <td>0.637727</td>\n",
       "      <td>0.435474</td>\n",
       "      <td>0.0</td>\n",
       "    </tr>\n",
       "    <tr>\n",
       "      <th>2</th>\n",
       "      <td>-0.494941</td>\n",
       "      <td>-1.369267</td>\n",
       "      <td>0.0</td>\n",
       "    </tr>\n",
       "    <tr>\n",
       "      <th>3</th>\n",
       "      <td>2.185535</td>\n",
       "      <td>-0.238430</td>\n",
       "      <td>0.0</td>\n",
       "    </tr>\n",
       "    <tr>\n",
       "      <th>4</th>\n",
       "      <td>1.316381</td>\n",
       "      <td>0.483306</td>\n",
       "      <td>0.0</td>\n",
       "    </tr>\n",
       "    <tr>\n",
       "      <th>...</th>\n",
       "      <td>...</td>\n",
       "      <td>...</td>\n",
       "      <td>...</td>\n",
       "    </tr>\n",
       "    <tr>\n",
       "      <th>495</th>\n",
       "      <td>0.805814</td>\n",
       "      <td>1.238442</td>\n",
       "      <td>1.0</td>\n",
       "    </tr>\n",
       "    <tr>\n",
       "      <th>496</th>\n",
       "      <td>-0.897160</td>\n",
       "      <td>0.127493</td>\n",
       "      <td>1.0</td>\n",
       "    </tr>\n",
       "    <tr>\n",
       "      <th>497</th>\n",
       "      <td>0.634147</td>\n",
       "      <td>0.758415</td>\n",
       "      <td>1.0</td>\n",
       "    </tr>\n",
       "    <tr>\n",
       "      <th>498</th>\n",
       "      <td>-0.820484</td>\n",
       "      <td>1.475674</td>\n",
       "      <td>1.0</td>\n",
       "    </tr>\n",
       "    <tr>\n",
       "      <th>499</th>\n",
       "      <td>-1.323889</td>\n",
       "      <td>3.052090</td>\n",
       "      <td>1.0</td>\n",
       "    </tr>\n",
       "  </tbody>\n",
       "</table>\n",
       "<p>1000 rows × 3 columns</p>\n",
       "</div>"
      ],
      "text/plain": [
       "            0         1    2\n",
       "0    0.212444  0.855727  0.0\n",
       "1    0.637727  0.435474  0.0\n",
       "2   -0.494941 -1.369267  0.0\n",
       "3    2.185535 -0.238430  0.0\n",
       "4    1.316381  0.483306  0.0\n",
       "..        ...       ...  ...\n",
       "495  0.805814  1.238442  1.0\n",
       "496 -0.897160  0.127493  1.0\n",
       "497  0.634147  0.758415  1.0\n",
       "498 -0.820484  1.475674  1.0\n",
       "499 -1.323889  3.052090  1.0\n",
       "\n",
       "[1000 rows x 3 columns]"
      ]
     },
     "execution_count": 2,
     "metadata": {},
     "output_type": "execute_result"
    }
   ],
   "source": [
    "# Generating the training data sets of 500 each with labels of 0 and 1 and then creatinig the Train_df using the two sets of data\n",
    "\n",
    "mu1 = [1,0]\n",
    "mu2 = [0,1]\n",
    "\n",
    "sig1 = [[1,0.75],[0.75,1]]\n",
    "sig2 = [[1,-0.5],[0.5,1]]\n",
    "\n",
    "Train_set0 = np.append(np.random.multivariate_normal(mu1,sig1,500),np.zeros((500,1)),axis=1)\n",
    "Train_set1 = np.append(np.random.multivariate_normal(mu2,sig2,500),np.ones((500,1)),axis=1)\n",
    "Train_df0 = pd.DataFrame(list(Train_set0))\n",
    "Train_df1 = pd.DataFrame(list(Train_set1)) \n",
    "Train_df = pd.concat([Train_df0, Train_df1])\n",
    "Train_df"
   ]
  },
  {
   "cell_type": "markdown",
   "metadata": {},
   "source": [
    "- Generated 1000 samples of training data using mu1,sig1 and mu2,sig2 each with 500 samples assigned with labels of 0 and 1 "
   ]
  },
  {
   "cell_type": "code",
   "execution_count": 3,
   "metadata": {},
   "outputs": [],
   "source": [
    "#Selecting features and labels arrays:\n",
    "X_train = Train_df.iloc[:, 0:2].values\n",
    "y_train = Train_df.iloc[:, 2].values"
   ]
  },
  {
   "cell_type": "markdown",
   "metadata": {},
   "source": [
    "- Dividing the training data into fetaures and labels "
   ]
  },
  {
   "cell_type": "code",
   "execution_count": 4,
   "metadata": {},
   "outputs": [
    {
     "name": "stderr",
     "output_type": "stream",
     "text": [
      "C:\\Users\\Dell\\anaconda3\\lib\\site-packages\\ipykernel_launcher.py:8: RuntimeWarning: covariance is not positive-semidefinite.\n",
      "  \n"
     ]
    },
    {
     "data": {
      "text/html": [
       "<div>\n",
       "<style scoped>\n",
       "    .dataframe tbody tr th:only-of-type {\n",
       "        vertical-align: middle;\n",
       "    }\n",
       "\n",
       "    .dataframe tbody tr th {\n",
       "        vertical-align: top;\n",
       "    }\n",
       "\n",
       "    .dataframe thead th {\n",
       "        text-align: right;\n",
       "    }\n",
       "</style>\n",
       "<table border=\"1\" class=\"dataframe\">\n",
       "  <thead>\n",
       "    <tr style=\"text-align: right;\">\n",
       "      <th></th>\n",
       "      <th>0</th>\n",
       "      <th>1</th>\n",
       "      <th>2</th>\n",
       "    </tr>\n",
       "  </thead>\n",
       "  <tbody>\n",
       "    <tr>\n",
       "      <th>0</th>\n",
       "      <td>0.209091</td>\n",
       "      <td>-1.267501</td>\n",
       "      <td>0.0</td>\n",
       "    </tr>\n",
       "    <tr>\n",
       "      <th>1</th>\n",
       "      <td>1.412381</td>\n",
       "      <td>0.071145</td>\n",
       "      <td>0.0</td>\n",
       "    </tr>\n",
       "    <tr>\n",
       "      <th>2</th>\n",
       "      <td>2.336955</td>\n",
       "      <td>0.849171</td>\n",
       "      <td>0.0</td>\n",
       "    </tr>\n",
       "    <tr>\n",
       "      <th>3</th>\n",
       "      <td>0.192879</td>\n",
       "      <td>-0.474227</td>\n",
       "      <td>0.0</td>\n",
       "    </tr>\n",
       "    <tr>\n",
       "      <th>4</th>\n",
       "      <td>1.450578</td>\n",
       "      <td>-0.125199</td>\n",
       "      <td>0.0</td>\n",
       "    </tr>\n",
       "    <tr>\n",
       "      <th>...</th>\n",
       "      <td>...</td>\n",
       "      <td>...</td>\n",
       "      <td>...</td>\n",
       "    </tr>\n",
       "    <tr>\n",
       "      <th>495</th>\n",
       "      <td>-1.357493</td>\n",
       "      <td>1.067331</td>\n",
       "      <td>1.0</td>\n",
       "    </tr>\n",
       "    <tr>\n",
       "      <th>496</th>\n",
       "      <td>-0.664679</td>\n",
       "      <td>1.616900</td>\n",
       "      <td>1.0</td>\n",
       "    </tr>\n",
       "    <tr>\n",
       "      <th>497</th>\n",
       "      <td>0.244903</td>\n",
       "      <td>1.250405</td>\n",
       "      <td>1.0</td>\n",
       "    </tr>\n",
       "    <tr>\n",
       "      <th>498</th>\n",
       "      <td>0.468392</td>\n",
       "      <td>0.942518</td>\n",
       "      <td>1.0</td>\n",
       "    </tr>\n",
       "    <tr>\n",
       "      <th>499</th>\n",
       "      <td>-0.167386</td>\n",
       "      <td>2.154299</td>\n",
       "      <td>1.0</td>\n",
       "    </tr>\n",
       "  </tbody>\n",
       "</table>\n",
       "<p>1000 rows × 3 columns</p>\n",
       "</div>"
      ],
      "text/plain": [
       "            0         1    2\n",
       "0    0.209091 -1.267501  0.0\n",
       "1    1.412381  0.071145  0.0\n",
       "2    2.336955  0.849171  0.0\n",
       "3    0.192879 -0.474227  0.0\n",
       "4    1.450578 -0.125199  0.0\n",
       "..        ...       ...  ...\n",
       "495 -1.357493  1.067331  1.0\n",
       "496 -0.664679  1.616900  1.0\n",
       "497  0.244903  1.250405  1.0\n",
       "498  0.468392  0.942518  1.0\n",
       "499 -0.167386  2.154299  1.0\n",
       "\n",
       "[1000 rows x 3 columns]"
      ]
     },
     "execution_count": 4,
     "metadata": {},
     "output_type": "execute_result"
    }
   ],
   "source": [
    "mu1 = [1,0]\n",
    "mu2 = [0,1]\n",
    "\n",
    "sig1 = [[1,0.75],[0.75,1]]\n",
    "sig2 = [[1,-0.5],[0.5,1]]\n",
    "\n",
    "Test_set0 = np.append(np.random.multivariate_normal(mu1,sig1,500),np.zeros((500,1)),axis=1)\n",
    "Test_set1 = np.append(np.random.multivariate_normal(mu2,sig2,500),np.ones((500,1)),axis=1)\n",
    "Test_df0 = pd.DataFrame(list(Test_set0))\n",
    "Test_df1 = pd.DataFrame(list(Test_set1)) \n",
    "Test_df = pd.concat([Test_df0, Test_df1])\n",
    "Test_df"
   ]
  },
  {
   "cell_type": "markdown",
   "metadata": {},
   "source": [
    "- Generated 1000 samples of test data using mu1,sig1 and mu2,sig2 each with 500 samples assigned with labels of 0 and 1 "
   ]
  },
  {
   "cell_type": "code",
   "execution_count": 5,
   "metadata": {},
   "outputs": [],
   "source": [
    "#Selecting features and labels arrays:\n",
    "X_test = Test_df.iloc[:, 0:2].values\n",
    "y_test = Test_df.iloc[:, 2].values"
   ]
  },
  {
   "cell_type": "markdown",
   "metadata": {},
   "source": [
    "- Dividing the test data into fetaures and labels "
   ]
  },
  {
   "cell_type": "code",
   "execution_count": 6,
   "metadata": {},
   "outputs": [],
   "source": [
    "#Implementation of logistic Regression model which uses Sigmoid function and Cross entropy loss function\n",
    "\n",
    "class LogisticRegression:\n",
    "    \n",
    "    #Learning rate = 0.01\n",
    "    #max number of iterations is 10000\n",
    "    #fit_intercept = a boolean to indicate whether we are adding the base X0 featurevector\n",
    "    def __init__(self, learning_rate=0.01, num_iter=10000, fit_intercept=True, verbose=False):\n",
    "        self.learning_rate = learning_rate  \n",
    "        self.num_iter = num_iter \n",
    "        self.fit_intercept = fit_intercept \n",
    "        self.verbose = verbose  \n",
    "    \n",
    "    def _add_intercept(self, X):\n",
    "        intercept = np.ones((X.shape[0], 1))  \n",
    "        return np.concatenate((intercept, X), axis=1)  \n",
    "    \n",
    "    #Sigmoid Activation Function\n",
    "    def _sigmoid(self, z):\n",
    "        return 1 / (1 + np.exp(-z))\n",
    "    \n",
    "    #log loss Function\n",
    "    def _loss(self, h, y):\n",
    "        return (-y * np.log(h) - (1 - y) * np.log(1 - h)).mean()\n",
    "    \n",
    "    #Function Training the algorithm\n",
    "    def train(self, X, y):\n",
    "        if self.fit_intercept:\n",
    "            X = self._add_intercept(X)  \n",
    "        self._weights = np.zeros(X.shape[1])  \n",
    "        \n",
    "        for i in range(self.num_iter):  \n",
    "            z = np.dot(X, self._weights)  \n",
    "            h = self._sigmoid(z)\n",
    "            gradient = np.dot(X.T, (h - y)) / y.size\n",
    "            self._weights -= self.learning_rate * gradient\n",
    "            \n",
    "            if (self.verbose == True and i % 10000 == 0):\n",
    "                z = np.dot(X, self._weights)\n",
    "                h = self._sigmoid(z)\n",
    "                print(f'loss: {self._loss(h, y)} \\t')\n",
    "\n",
    "    def predict_prob(self, X):  \n",
    "        if self.fit_intercept:\n",
    "            X = self._add_intercept(X)\n",
    "    \n",
    "        return self._sigmoid(np.dot(X, self._weights))\n",
    "    \n",
    "    def predict(self, X, threshold):\n",
    "        return self.predict_prob(X) >= threshold"
   ]
  },
  {
   "cell_type": "code",
   "execution_count": 7,
   "metadata": {},
   "outputs": [
    {
     "name": "stdout",
     "output_type": "stream",
     "text": [
      "0.834\n"
     ]
    }
   ],
   "source": [
    "#Train the model with training data with parameters as 0.0001 and max iteration=100000\n",
    "logit = LogisticRegression(learning_rate= 0.0001, num_iter=10000)\n",
    "logit.train(X_train, y_train)\n",
    "y_pred = [int(round(x)) for x in logit.predict_prob(X_test).flatten()]\n",
    "score = accuracy_score(y_test, y_pred)\n",
    "print(score)"
   ]
  },
  {
   "cell_type": "markdown",
   "metadata": {},
   "source": [
    "#### _Analysis_:- \n",
    "- Accuracy score is around 84% which says that the model is decent in classifying the labels"
   ]
  },
  {
   "cell_type": "code",
   "execution_count": 8,
   "metadata": {},
   "outputs": [
    {
     "data": {
      "image/png": "[encoded data removed]",
      "text/plain": [
       "<Figure size 432x288 with 1 Axes>"
      ]
     },
     "metadata": {
      "needs_background": "light"
     },
     "output_type": "display_data"
    },
    {
     "name": "stdout",
     "output_type": "stream",
     "text": [
      "Area under Curve:0.8819079999999999\n"
     ]
    }
   ],
   "source": [
    "y_pred_probs = logit.predict_prob(X_test)\n",
    "logit_roc_auc = roc_auc_score(y_test, y_pred_probs)\n",
    "fpr, tpr, thresholds = roc_curve(y_test, y_pred_probs)\n",
    "plt.figure()\n",
    "plt.plot(fpr, tpr, label='Logistic Regression (area = %0.2f)' % logit_roc_auc)\n",
    "plt.plot([0, 1], [0, 1],'r--')\n",
    "plt.xlim([0.0, 1.0])\n",
    "plt.ylim([0.0, 1.05])\n",
    "plt.xlabel('False Positive Rate')\n",
    "plt.ylabel('True Positive Rate')\n",
    "plt.title('ROC')\n",
    "plt.legend(loc=\"lower right\")\n",
    "plt.savefig('Log_ROC')\n",
    "plt.show()\n",
    "print('Area under Curve:'+ repr(logit_roc_auc) )\n"
   ]
  },
  {
   "cell_type": "markdown",
   "metadata": {},
   "source": [
    "#### _Analysis_:\n",
    "- Above plot shows the model has 0.889228 Area Under Curve and ROC is also looking good"
   ]
  },
  {
   "cell_type": "code",
   "execution_count": 152,
   "metadata": {},
   "outputs": [
    {
     "name": "stdout",
     "output_type": "stream",
     "text": [
      "0.843\n",
      "0.843\n",
      "0.843\n",
      "0.843\n",
      "0.843\n"
     ]
    },
    {
     "data": {
      "image/png": "[encoded data removed]",
      "text/plain": [
       "<Figure size 432x288 with 1 Axes>"
      ]
     },
     "metadata": {
      "needs_background": "light"
     },
     "output_type": "display_data"
    }
   ],
   "source": [
    "\n",
    "#when learning rate = 1\n",
    "logit = LogisticRegression(learning_rate= 1,num_iter=5)\n",
    "logit.train(X_train, y_train)\n",
    "y_pred = [int(round(x)) for x in logit.predict_prob(X_test).flatten()]\n",
    "score = accuracy_score(y_test, y_pred)\n",
    "print(score)\n",
    "\n",
    "#when learning rate = 0.1\n",
    "logit = LogisticRegression(learning_rate= 0.1,num_iter=50)\n",
    "logit.train(X_train, y_train)\n",
    "y_pred = [int(round(x)) for x in logit.predict_prob(X_test).flatten()]\n",
    "score = accuracy_score(y_test, y_pred)\n",
    "print(score)\n",
    "\n",
    "#when learning rate = 0.01\n",
    "logit = LogisticRegression(learning_rate= 0.01,num_iter=100)\n",
    "logit.train(X_train, y_train)\n",
    "y_pred = [int(round(x)) for x in logit.predict_prob(X_test).flatten()]\n",
    "score = accuracy_score(y_test, y_pred)\n",
    "print(score)\n",
    "\n",
    "#when learning rate = 0.001\n",
    "logit = LogisticRegression(learning_rate= 0.001,num_iter=1000)\n",
    "logit.train(X_train, y_train)\n",
    "y_pred = [int(round(x)) for x in logit.predict_prob(X_test).flatten()]\n",
    "score = accuracy_score(y_test, y_pred)\n",
    "print(score)\n",
    "\n",
    "##when learning rate = 0.0001\n",
    "logit = LogisticRegression(learning_rate= 0.0001,num_iter=10000)\n",
    "logit.train(X_train, y_train)\n",
    "y_pred = [int(round(x)) for x in logit.predict_prob(X_test).flatten()]\n",
    "score = accuracy_score(y_test, y_pred)\n",
    "print(score)\n",
    "Iterations = [10000,1000,100,50,5]\n",
    "LearningRate = [0.0001,0.001,0.01,0.1,1]\n",
    "plt.plot((Iterations),LearningRate)\n",
    "plt.xscale(\"log\")\n",
    "plt.xlabel(\" log Iterations\")\n",
    "plt.ylabel(\"LearningRate\")\n",
    "plt.title(\"Iterations VS LearningRate\")\n",
    "plt.show()"
   ]
  },
  {
   "cell_type": "markdown",
   "metadata": {},
   "source": [
    "#### _Analysis_:\n",
    "- Took accuracy 0.843 is as the standard measure and then calculated the iterations vs Learning rate\n",
    "- For the learning as 1, it took very less no of iterations to give the best accuracy score and as the learning rate decreases the no of iterations kept increasing "
   ]
  }
 ],
 "metadata": {
  "kernelspec": {
   "display_name": "Python 3",
   "language": "python",
   "name": "python3"
  },
  "language_info": {
   "codemirror_mode": {
    "name": "ipython",
    "version": 3
   },
   "file_extension": ".py",
   "mimetype": "text/x-python",
   "name": "python",
   "nbconvert_exporter": "python",
   "pygments_lexer": "ipython3",
   "version": "3.7.6"
  }
 },
 "nbformat": 4,
 "nbformat_minor": 4
}
